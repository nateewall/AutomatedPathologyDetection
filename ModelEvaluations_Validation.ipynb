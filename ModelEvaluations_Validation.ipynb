{
 "cells": [
  {
   "cell_type": "code",
   "execution_count": 2,
   "metadata": {},
   "outputs": [
    {
     "name": "stderr",
     "output_type": "stream",
     "text": [
      "Using TensorFlow backend.\n"
     ]
    }
   ],
   "source": [
    "import pandas as pd\n",
    "import numpy as np\n",
    "\n",
    "from keras import models\n",
    "from keras import layers\n",
    "from keras import optimizers\n",
    "\n",
    "from keras_preprocessing.image import ImageDataGenerator\n",
    "from keras.applications.densenet import DenseNet121 as BASE\n",
    "\n",
    "from sklearn.metrics import roc_auc_score, average_precision_score"
   ]
  },
  {
   "cell_type": "code",
   "execution_count": 3,
   "metadata": {},
   "outputs": [
    {
     "name": "stdout",
     "output_type": "stream",
     "text": [
      "0    167\n",
      "1     67\n",
      "Name: label, dtype: int64\n"
     ]
    }
   ],
   "source": [
    "# -----------------------------LOAD IN OUR DATA---------------------------------- #\n",
    "VALID = 'CheXpert-v1.0-small/valid.csv'\n",
    "WEIGHTS = 'DenseNet121_16_6_weights_lr_reduce_from32.hdf5'\n",
    "\n",
    "# generate validation set\n",
    "valid = pd.read_csv(VALID, dtype=str)\n",
    "\n",
    "#mapping to different labels\n",
    "label = {'0.0': '0', '1.0' : '1', '-1.0' : '1'}\n",
    "\n",
    "#same for validation set even though there should be no issue here with missing data\n",
    "valid['label'] = valid['Pleural Effusion'].map(label)\n",
    "num_valid = len(valid)\n",
    "\n",
    "print(valid['label'].value_counts())\n"
   ]
  },
  {
   "cell_type": "code",
   "execution_count": 10,
   "metadata": {},
   "outputs": [
    {
     "data": {
      "text/html": [
       "<div>\n",
       "<style scoped>\n",
       "    .dataframe tbody tr th:only-of-type {\n",
       "        vertical-align: middle;\n",
       "    }\n",
       "\n",
       "    .dataframe tbody tr th {\n",
       "        vertical-align: top;\n",
       "    }\n",
       "\n",
       "    .dataframe thead th {\n",
       "        text-align: right;\n",
       "    }\n",
       "</style>\n",
       "<table border=\"1\" class=\"dataframe\">\n",
       "  <thead>\n",
       "    <tr style=\"text-align: right;\">\n",
       "      <th></th>\n",
       "      <th>Path</th>\n",
       "      <th>Sex</th>\n",
       "      <th>Age</th>\n",
       "      <th>Frontal/Lateral</th>\n",
       "      <th>AP/PA</th>\n",
       "      <th>No Finding</th>\n",
       "      <th>Enlarged Cardiomediastinum</th>\n",
       "      <th>Cardiomegaly</th>\n",
       "      <th>Lung Opacity</th>\n",
       "      <th>Lung Lesion</th>\n",
       "      <th>Edema</th>\n",
       "      <th>Consolidation</th>\n",
       "      <th>Pneumonia</th>\n",
       "      <th>Atelectasis</th>\n",
       "      <th>Pneumothorax</th>\n",
       "      <th>Pleural Effusion</th>\n",
       "      <th>Pleural Other</th>\n",
       "      <th>Fracture</th>\n",
       "      <th>Support Devices</th>\n",
       "      <th>label</th>\n",
       "    </tr>\n",
       "  </thead>\n",
       "  <tbody>\n",
       "    <tr>\n",
       "      <th>0</th>\n",
       "      <td>CheXpert-v1.0-small/valid/patient64541/study1/...</td>\n",
       "      <td>Male</td>\n",
       "      <td>73</td>\n",
       "      <td>Frontal</td>\n",
       "      <td>AP</td>\n",
       "      <td>0.0</td>\n",
       "      <td>1.0</td>\n",
       "      <td>1.0</td>\n",
       "      <td>1.0</td>\n",
       "      <td>0.0</td>\n",
       "      <td>0.0</td>\n",
       "      <td>0.0</td>\n",
       "      <td>0.0</td>\n",
       "      <td>0.0</td>\n",
       "      <td>0.0</td>\n",
       "      <td>0.0</td>\n",
       "      <td>0.0</td>\n",
       "      <td>0.0</td>\n",
       "      <td>0.0</td>\n",
       "      <td>0</td>\n",
       "    </tr>\n",
       "    <tr>\n",
       "      <th>1</th>\n",
       "      <td>CheXpert-v1.0-small/valid/patient64542/study1/...</td>\n",
       "      <td>Male</td>\n",
       "      <td>70</td>\n",
       "      <td>Frontal</td>\n",
       "      <td>PA</td>\n",
       "      <td>0.0</td>\n",
       "      <td>0.0</td>\n",
       "      <td>0.0</td>\n",
       "      <td>0.0</td>\n",
       "      <td>0.0</td>\n",
       "      <td>0.0</td>\n",
       "      <td>0.0</td>\n",
       "      <td>0.0</td>\n",
       "      <td>0.0</td>\n",
       "      <td>0.0</td>\n",
       "      <td>0.0</td>\n",
       "      <td>0.0</td>\n",
       "      <td>0.0</td>\n",
       "      <td>1.0</td>\n",
       "      <td>0</td>\n",
       "    </tr>\n",
       "    <tr>\n",
       "      <th>2</th>\n",
       "      <td>CheXpert-v1.0-small/valid/patient64542/study1/...</td>\n",
       "      <td>Male</td>\n",
       "      <td>70</td>\n",
       "      <td>Lateral</td>\n",
       "      <td>NaN</td>\n",
       "      <td>0.0</td>\n",
       "      <td>0.0</td>\n",
       "      <td>0.0</td>\n",
       "      <td>0.0</td>\n",
       "      <td>0.0</td>\n",
       "      <td>0.0</td>\n",
       "      <td>0.0</td>\n",
       "      <td>0.0</td>\n",
       "      <td>0.0</td>\n",
       "      <td>0.0</td>\n",
       "      <td>0.0</td>\n",
       "      <td>0.0</td>\n",
       "      <td>0.0</td>\n",
       "      <td>1.0</td>\n",
       "      <td>0</td>\n",
       "    </tr>\n",
       "    <tr>\n",
       "      <th>3</th>\n",
       "      <td>CheXpert-v1.0-small/valid/patient64543/study1/...</td>\n",
       "      <td>Male</td>\n",
       "      <td>85</td>\n",
       "      <td>Frontal</td>\n",
       "      <td>AP</td>\n",
       "      <td>0.0</td>\n",
       "      <td>1.0</td>\n",
       "      <td>0.0</td>\n",
       "      <td>1.0</td>\n",
       "      <td>0.0</td>\n",
       "      <td>1.0</td>\n",
       "      <td>0.0</td>\n",
       "      <td>0.0</td>\n",
       "      <td>0.0</td>\n",
       "      <td>0.0</td>\n",
       "      <td>0.0</td>\n",
       "      <td>0.0</td>\n",
       "      <td>0.0</td>\n",
       "      <td>0.0</td>\n",
       "      <td>0</td>\n",
       "    </tr>\n",
       "    <tr>\n",
       "      <th>4</th>\n",
       "      <td>CheXpert-v1.0-small/valid/patient64544/study1/...</td>\n",
       "      <td>Female</td>\n",
       "      <td>42</td>\n",
       "      <td>Frontal</td>\n",
       "      <td>AP</td>\n",
       "      <td>1.0</td>\n",
       "      <td>0.0</td>\n",
       "      <td>0.0</td>\n",
       "      <td>0.0</td>\n",
       "      <td>0.0</td>\n",
       "      <td>0.0</td>\n",
       "      <td>0.0</td>\n",
       "      <td>0.0</td>\n",
       "      <td>0.0</td>\n",
       "      <td>0.0</td>\n",
       "      <td>0.0</td>\n",
       "      <td>0.0</td>\n",
       "      <td>0.0</td>\n",
       "      <td>0.0</td>\n",
       "      <td>0</td>\n",
       "    </tr>\n",
       "  </tbody>\n",
       "</table>\n",
       "</div>"
      ],
      "text/plain": [
       "                                                Path     Sex Age  \\\n",
       "0  CheXpert-v1.0-small/valid/patient64541/study1/...    Male  73   \n",
       "1  CheXpert-v1.0-small/valid/patient64542/study1/...    Male  70   \n",
       "2  CheXpert-v1.0-small/valid/patient64542/study1/...    Male  70   \n",
       "3  CheXpert-v1.0-small/valid/patient64543/study1/...    Male  85   \n",
       "4  CheXpert-v1.0-small/valid/patient64544/study1/...  Female  42   \n",
       "\n",
       "  Frontal/Lateral AP/PA No Finding Enlarged Cardiomediastinum Cardiomegaly  \\\n",
       "0         Frontal    AP        0.0                        1.0          1.0   \n",
       "1         Frontal    PA        0.0                        0.0          0.0   \n",
       "2         Lateral   NaN        0.0                        0.0          0.0   \n",
       "3         Frontal    AP        0.0                        1.0          0.0   \n",
       "4         Frontal    AP        1.0                        0.0          0.0   \n",
       "\n",
       "  Lung Opacity Lung Lesion Edema Consolidation Pneumonia Atelectasis  \\\n",
       "0          1.0         0.0   0.0           0.0       0.0         0.0   \n",
       "1          0.0         0.0   0.0           0.0       0.0         0.0   \n",
       "2          0.0         0.0   0.0           0.0       0.0         0.0   \n",
       "3          1.0         0.0   1.0           0.0       0.0         0.0   \n",
       "4          0.0         0.0   0.0           0.0       0.0         0.0   \n",
       "\n",
       "  Pneumothorax Pleural Effusion Pleural Other Fracture Support Devices label  \n",
       "0          0.0              0.0           0.0      0.0             0.0     0  \n",
       "1          0.0              0.0           0.0      0.0             1.0     0  \n",
       "2          0.0              0.0           0.0      0.0             1.0     0  \n",
       "3          0.0              0.0           0.0      0.0             0.0     0  \n",
       "4          0.0              0.0           0.0      0.0             0.0     0  "
      ]
     },
     "execution_count": 10,
     "metadata": {},
     "output_type": "execute_result"
    }
   ],
   "source": [
    "valid.head()"
   ]
  },
  {
   "cell_type": "code",
   "execution_count": 4,
   "metadata": {},
   "outputs": [
    {
     "name": "stdout",
     "output_type": "stream",
     "text": [
      "Found 234 validated image filenames belonging to 2 classes.\n"
     ]
    }
   ],
   "source": [
    "#---------------------------------CREATE TEST DATA GENERATOR---------------------------------#\n",
    "def test_flow(valid, target_size, batch_size = 1, color_mode=\"grayscale\",  x = 'Path', y= 'label'):\n",
    "\n",
    "    #declare the datagen options\n",
    "    valid_datagen = ImageDataGenerator(rescale=1./255)\n",
    "\n",
    "    valid_generator = valid_datagen.flow_from_dataframe(dataframe=valid,\n",
    "                                                        directory=None,\n",
    "                                                        x_col=x,\n",
    "                                                        y_col=y,\n",
    "                                                        class_mode=\"binary\",\n",
    "                                                        color_mode=color_mode,\n",
    "                                                        target_size=target_size,\n",
    "                                                        batch_size=batch_size)\n",
    "\n",
    "    return valid_generator\n",
    "\n",
    "\n",
    "valid_generator = test_flow(valid, (224,224), color_mode=\"rgb\")"
   ]
  },
  {
   "cell_type": "code",
   "execution_count": 5,
   "metadata": {},
   "outputs": [
    {
     "name": "stdout",
     "output_type": "stream",
     "text": [
      "_________________________________________________________________\n",
      "Layer (type)                 Output Shape              Param #   \n",
      "=================================================================\n",
      "densenet121 (Model)          (None, 1000)              7037504   \n",
      "_________________________________________________________________\n",
      "dense_1 (Dense)              (None, 1)                 1001      \n",
      "=================================================================\n",
      "Total params: 7,038,505\n",
      "Trainable params: 6,954,857\n",
      "Non-trainable params: 83,648\n",
      "_________________________________________________________________\n",
      "None\n"
     ]
    }
   ],
   "source": [
    "# # -----------------------------LOAD MODEL---------------------------------- #\n",
    "conv_base = BASE(include_top=True,\n",
    "                input_shape=valid_generator.image_shape,\n",
    "                pooling=max)\n",
    "\n",
    "conv_base.layers.pop()\n",
    "# print(conv_base.summary())\n",
    "\n",
    "# conv_base.trainable = True\n",
    "# for layer in conv_base.layers:\n",
    "#     layer.trainable = True\n",
    "\n",
    "model = models.Sequential()\n",
    "model.add(conv_base)\n",
    "model.add(layers.Dense(1, activation='sigmoid'))\n",
    "\n",
    "if WEIGHTS:\n",
    "    model.load_weights(WEIGHTS)\n",
    "\n",
    "model.compile(loss='binary_crossentropy', optimizer= optimizers.Adam(), metrics=['accuracy'])\n",
    "print(model.summary())"
   ]
  },
  {
   "cell_type": "code",
   "execution_count": 40,
   "metadata": {},
   "outputs": [
    {
     "name": "stdout",
     "output_type": "stream",
     "text": [
      "--------------------------\n",
      "\n",
      "Accuracy (Evaluation Generator)=  0.8675213675213675\n",
      "\n"
     ]
    }
   ],
   "source": [
    "scoreSeg = model.evaluate_generator(valid_generator, steps=len(valid), workers=0)\n",
    "print('--------------------------')\n",
    "print('')\n",
    "print(\"Accuracy (Evaluation Generator)= \",scoreSeg[1])\n",
    "print('')"
   ]
  },
  {
   "cell_type": "code",
   "execution_count": 7,
   "metadata": {},
   "outputs": [
    {
     "name": "stdout",
     "output_type": "stream",
     "text": [
      "234/234 [==============================] - 58s 247ms/step\n"
     ]
    }
   ],
   "source": [
    "y_pred_keras = model.predict_generator(valid_generator, steps=len(valid_generator.labels), verbose=1, workers=0)"
   ]
  },
  {
   "cell_type": "code",
   "execution_count": 9,
   "metadata": {},
   "outputs": [
    {
     "data": {
      "text/html": [
       "<div>\n",
       "<style scoped>\n",
       "    .dataframe tbody tr th:only-of-type {\n",
       "        vertical-align: middle;\n",
       "    }\n",
       "\n",
       "    .dataframe tbody tr th {\n",
       "        vertical-align: top;\n",
       "    }\n",
       "\n",
       "    .dataframe thead th {\n",
       "        text-align: right;\n",
       "    }\n",
       "</style>\n",
       "<table border=\"1\" class=\"dataframe\">\n",
       "  <thead>\n",
       "    <tr style=\"text-align: right;\">\n",
       "      <th>y_pred</th>\n",
       "      <th>0.0</th>\n",
       "      <th>1.0</th>\n",
       "    </tr>\n",
       "    <tr>\n",
       "      <th>label</th>\n",
       "      <th></th>\n",
       "      <th></th>\n",
       "    </tr>\n",
       "  </thead>\n",
       "  <tbody>\n",
       "    <tr>\n",
       "      <th>0</th>\n",
       "      <td>131</td>\n",
       "      <td>36</td>\n",
       "    </tr>\n",
       "    <tr>\n",
       "      <th>1</th>\n",
       "      <td>51</td>\n",
       "      <td>16</td>\n",
       "    </tr>\n",
       "  </tbody>\n",
       "</table>\n",
       "</div>"
      ],
      "text/plain": [
       "y_pred  0.0  1.0\n",
       "label           \n",
       "0       131   36\n",
       "1        51   16"
      ]
     },
     "execution_count": 9,
     "metadata": {},
     "output_type": "execute_result"
    }
   ],
   "source": [
    "valid['y_prob'] = y_pred_keras\n",
    "\n",
    "valid['y_pred'] = round(valid['y_prob'])\n",
    "\n",
    "valid['y_gen_label'] = valid_generator.labels\n",
    "\n",
    "pd.crosstab(valid['label'], valid['y_pred'])\n"
   ]
  },
  {
   "cell_type": "markdown",
   "metadata": {},
   "source": [
    "At this point I am lost on how to do this. Likely need to develop my own generator? Or perhaps my training data is all wrong? I have lost all faith..."
   ]
  },
  {
   "cell_type": "code",
   "execution_count": 16,
   "metadata": {},
   "outputs": [
    {
     "ename": "AttributeError",
     "evalue": "'Sequential' object has no attribute 'class_indices'",
     "output_type": "error",
     "traceback": [
      "\u001b[0;31m---------------------------------------------------------------------------\u001b[0m",
      "\u001b[0;31mAttributeError\u001b[0m                            Traceback (most recent call last)",
      "\u001b[0;32m<ipython-input-16-77e3d5fa69c5>\u001b[0m in \u001b[0;36m<module>\u001b[0;34m\u001b[0m\n\u001b[0;32m----> 1\u001b[0;31m \u001b[0mmodel\u001b[0m\u001b[0;34m.\u001b[0m\u001b[0mclass_indices\u001b[0m\u001b[0;34m\u001b[0m\u001b[0m\n\u001b[0m",
      "\u001b[0;31mAttributeError\u001b[0m: 'Sequential' object has no attribute 'class_indices'"
     ]
    }
   ],
   "source": [
    "model.class_indices"
   ]
  },
  {
   "cell_type": "code",
   "execution_count": null,
   "metadata": {},
   "outputs": [],
   "source": []
  }
 ],
 "metadata": {
  "kernelspec": {
   "display_name": "Python 3",
   "language": "python",
   "name": "python3"
  },
  "language_info": {
   "codemirror_mode": {
    "name": "ipython",
    "version": 3
   },
   "file_extension": ".py",
   "mimetype": "text/x-python",
   "name": "python",
   "nbconvert_exporter": "python",
   "pygments_lexer": "ipython3",
   "version": "3.6.6"
  }
 },
 "nbformat": 4,
 "nbformat_minor": 2
}
