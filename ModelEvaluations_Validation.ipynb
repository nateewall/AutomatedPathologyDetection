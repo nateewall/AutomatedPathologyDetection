{
 "cells": [
  {
   "cell_type": "code",
   "execution_count": 19,
   "metadata": {},
   "outputs": [],
   "source": [
    "import pandas as pd\n",
    "import numpy as np\n",
    "import matplotlib.pyplot as plt\n",
    "\n",
    "from keras import models\n",
    "from keras import layers\n",
    "from keras import optimizers\n",
    "\n",
    "from keras_preprocessing.image import ImageDataGenerator\n",
    "from keras.applications.densenet import DenseNet121 as BASE\n",
    "\n",
    "from sklearn.metrics import roc_curve, auc, roc_auc_score"
   ]
  },
  {
   "cell_type": "code",
   "execution_count": 2,
   "metadata": {},
   "outputs": [
    {
     "name": "stdout",
     "output_type": "stream",
     "text": [
      "0    167\n",
      "1     67\n",
      "Name: label, dtype: int64\n"
     ]
    }
   ],
   "source": [
    "# -----------------------------LOAD IN OUR DATA---------------------------------- #\n",
    "VALID = 'CheXpert-v1.0-small/valid.csv'\n",
    "WEIGHTS = 'DenseNet121_16_6_weights_lr_reduce_from32.hdf5'\n",
    "\n",
    "# generate validation set\n",
    "valid = pd.read_csv(VALID, dtype=str)\n",
    "\n",
    "#mapping to different labels\n",
    "label = {'0.0': '0', '1.0' : '1', '-1.0' : '1'}\n",
    "\n",
    "#same for validation set even though there should be no issue here with missing data\n",
    "valid['label'] = valid['Pleural Effusion'].map(label)\n",
    "num_valid = len(valid)\n",
    "\n",
    "print(valid['label'].value_counts())\n"
   ]
  },
  {
   "cell_type": "code",
   "execution_count": 10,
   "metadata": {},
   "outputs": [
    {
     "data": {
      "text/html": [
       "<div>\n",
       "<style scoped>\n",
       "    .dataframe tbody tr th:only-of-type {\n",
       "        vertical-align: middle;\n",
       "    }\n",
       "\n",
       "    .dataframe tbody tr th {\n",
       "        vertical-align: top;\n",
       "    }\n",
       "\n",
       "    .dataframe thead th {\n",
       "        text-align: right;\n",
       "    }\n",
       "</style>\n",
       "<table border=\"1\" class=\"dataframe\">\n",
       "  <thead>\n",
       "    <tr style=\"text-align: right;\">\n",
       "      <th></th>\n",
       "      <th>Path</th>\n",
       "      <th>Sex</th>\n",
       "      <th>Age</th>\n",
       "      <th>Frontal/Lateral</th>\n",
       "      <th>AP/PA</th>\n",
       "      <th>No Finding</th>\n",
       "      <th>Enlarged Cardiomediastinum</th>\n",
       "      <th>Cardiomegaly</th>\n",
       "      <th>Lung Opacity</th>\n",
       "      <th>Lung Lesion</th>\n",
       "      <th>Edema</th>\n",
       "      <th>Consolidation</th>\n",
       "      <th>Pneumonia</th>\n",
       "      <th>Atelectasis</th>\n",
       "      <th>Pneumothorax</th>\n",
       "      <th>Pleural Effusion</th>\n",
       "      <th>Pleural Other</th>\n",
       "      <th>Fracture</th>\n",
       "      <th>Support Devices</th>\n",
       "      <th>label</th>\n",
       "    </tr>\n",
       "  </thead>\n",
       "  <tbody>\n",
       "    <tr>\n",
       "      <th>0</th>\n",
       "      <td>CheXpert-v1.0-small/valid/patient64541/study1/...</td>\n",
       "      <td>Male</td>\n",
       "      <td>73</td>\n",
       "      <td>Frontal</td>\n",
       "      <td>AP</td>\n",
       "      <td>0.0</td>\n",
       "      <td>1.0</td>\n",
       "      <td>1.0</td>\n",
       "      <td>1.0</td>\n",
       "      <td>0.0</td>\n",
       "      <td>0.0</td>\n",
       "      <td>0.0</td>\n",
       "      <td>0.0</td>\n",
       "      <td>0.0</td>\n",
       "      <td>0.0</td>\n",
       "      <td>0.0</td>\n",
       "      <td>0.0</td>\n",
       "      <td>0.0</td>\n",
       "      <td>0.0</td>\n",
       "      <td>0</td>\n",
       "    </tr>\n",
       "    <tr>\n",
       "      <th>1</th>\n",
       "      <td>CheXpert-v1.0-small/valid/patient64542/study1/...</td>\n",
       "      <td>Male</td>\n",
       "      <td>70</td>\n",
       "      <td>Frontal</td>\n",
       "      <td>PA</td>\n",
       "      <td>0.0</td>\n",
       "      <td>0.0</td>\n",
       "      <td>0.0</td>\n",
       "      <td>0.0</td>\n",
       "      <td>0.0</td>\n",
       "      <td>0.0</td>\n",
       "      <td>0.0</td>\n",
       "      <td>0.0</td>\n",
       "      <td>0.0</td>\n",
       "      <td>0.0</td>\n",
       "      <td>0.0</td>\n",
       "      <td>0.0</td>\n",
       "      <td>0.0</td>\n",
       "      <td>1.0</td>\n",
       "      <td>0</td>\n",
       "    </tr>\n",
       "    <tr>\n",
       "      <th>2</th>\n",
       "      <td>CheXpert-v1.0-small/valid/patient64542/study1/...</td>\n",
       "      <td>Male</td>\n",
       "      <td>70</td>\n",
       "      <td>Lateral</td>\n",
       "      <td>NaN</td>\n",
       "      <td>0.0</td>\n",
       "      <td>0.0</td>\n",
       "      <td>0.0</td>\n",
       "      <td>0.0</td>\n",
       "      <td>0.0</td>\n",
       "      <td>0.0</td>\n",
       "      <td>0.0</td>\n",
       "      <td>0.0</td>\n",
       "      <td>0.0</td>\n",
       "      <td>0.0</td>\n",
       "      <td>0.0</td>\n",
       "      <td>0.0</td>\n",
       "      <td>0.0</td>\n",
       "      <td>1.0</td>\n",
       "      <td>0</td>\n",
       "    </tr>\n",
       "    <tr>\n",
       "      <th>3</th>\n",
       "      <td>CheXpert-v1.0-small/valid/patient64543/study1/...</td>\n",
       "      <td>Male</td>\n",
       "      <td>85</td>\n",
       "      <td>Frontal</td>\n",
       "      <td>AP</td>\n",
       "      <td>0.0</td>\n",
       "      <td>1.0</td>\n",
       "      <td>0.0</td>\n",
       "      <td>1.0</td>\n",
       "      <td>0.0</td>\n",
       "      <td>1.0</td>\n",
       "      <td>0.0</td>\n",
       "      <td>0.0</td>\n",
       "      <td>0.0</td>\n",
       "      <td>0.0</td>\n",
       "      <td>0.0</td>\n",
       "      <td>0.0</td>\n",
       "      <td>0.0</td>\n",
       "      <td>0.0</td>\n",
       "      <td>0</td>\n",
       "    </tr>\n",
       "    <tr>\n",
       "      <th>4</th>\n",
       "      <td>CheXpert-v1.0-small/valid/patient64544/study1/...</td>\n",
       "      <td>Female</td>\n",
       "      <td>42</td>\n",
       "      <td>Frontal</td>\n",
       "      <td>AP</td>\n",
       "      <td>1.0</td>\n",
       "      <td>0.0</td>\n",
       "      <td>0.0</td>\n",
       "      <td>0.0</td>\n",
       "      <td>0.0</td>\n",
       "      <td>0.0</td>\n",
       "      <td>0.0</td>\n",
       "      <td>0.0</td>\n",
       "      <td>0.0</td>\n",
       "      <td>0.0</td>\n",
       "      <td>0.0</td>\n",
       "      <td>0.0</td>\n",
       "      <td>0.0</td>\n",
       "      <td>0.0</td>\n",
       "      <td>0</td>\n",
       "    </tr>\n",
       "  </tbody>\n",
       "</table>\n",
       "</div>"
      ],
      "text/plain": [
       "                                                Path     Sex Age  \\\n",
       "0  CheXpert-v1.0-small/valid/patient64541/study1/...    Male  73   \n",
       "1  CheXpert-v1.0-small/valid/patient64542/study1/...    Male  70   \n",
       "2  CheXpert-v1.0-small/valid/patient64542/study1/...    Male  70   \n",
       "3  CheXpert-v1.0-small/valid/patient64543/study1/...    Male  85   \n",
       "4  CheXpert-v1.0-small/valid/patient64544/study1/...  Female  42   \n",
       "\n",
       "  Frontal/Lateral AP/PA No Finding Enlarged Cardiomediastinum Cardiomegaly  \\\n",
       "0         Frontal    AP        0.0                        1.0          1.0   \n",
       "1         Frontal    PA        0.0                        0.0          0.0   \n",
       "2         Lateral   NaN        0.0                        0.0          0.0   \n",
       "3         Frontal    AP        0.0                        1.0          0.0   \n",
       "4         Frontal    AP        1.0                        0.0          0.0   \n",
       "\n",
       "  Lung Opacity Lung Lesion Edema Consolidation Pneumonia Atelectasis  \\\n",
       "0          1.0         0.0   0.0           0.0       0.0         0.0   \n",
       "1          0.0         0.0   0.0           0.0       0.0         0.0   \n",
       "2          0.0         0.0   0.0           0.0       0.0         0.0   \n",
       "3          1.0         0.0   1.0           0.0       0.0         0.0   \n",
       "4          0.0         0.0   0.0           0.0       0.0         0.0   \n",
       "\n",
       "  Pneumothorax Pleural Effusion Pleural Other Fracture Support Devices label  \n",
       "0          0.0              0.0           0.0      0.0             0.0     0  \n",
       "1          0.0              0.0           0.0      0.0             1.0     0  \n",
       "2          0.0              0.0           0.0      0.0             1.0     0  \n",
       "3          0.0              0.0           0.0      0.0             0.0     0  \n",
       "4          0.0              0.0           0.0      0.0             0.0     0  "
      ]
     },
     "execution_count": 10,
     "metadata": {},
     "output_type": "execute_result"
    }
   ],
   "source": [
    "valid.head()"
   ]
  },
  {
   "cell_type": "code",
   "execution_count": 3,
   "metadata": {},
   "outputs": [
    {
     "name": "stdout",
     "output_type": "stream",
     "text": [
      "Found 234 validated image filenames belonging to 2 classes.\n"
     ]
    }
   ],
   "source": [
    "#---------------------------------CREATE TEST DATA GENERATOR---------------------------------#\n",
    "def test_flow(valid, target_size, batch_size = 1, color_mode=\"grayscale\",  x = 'Path', y= 'label'):\n",
    "\n",
    "    #declare the datagen options\n",
    "    valid_datagen = ImageDataGenerator(rescale=1./255)\n",
    "\n",
    "    valid_generator = valid_datagen.flow_from_dataframe(dataframe=valid,\n",
    "                                                        directory=None,\n",
    "                                                        x_col=x,\n",
    "                                                        y_col=y,\n",
    "                                                        class_mode=\"binary\",\n",
    "                                                        color_mode=color_mode,\n",
    "                                                        seed = 42,\n",
    "                                                        shuffle = False,\n",
    "                                                        target_size=target_size,\n",
    "                                                        batch_size=batch_size)\n",
    "\n",
    "    return valid_generator\n",
    "\n",
    "\n",
    "valid_generator = test_flow(valid, (224,224), color_mode=\"rgb\")"
   ]
  },
  {
   "cell_type": "code",
   "execution_count": 4,
   "metadata": {},
   "outputs": [
    {
     "name": "stdout",
     "output_type": "stream",
     "text": [
      "_________________________________________________________________\n",
      "Layer (type)                 Output Shape              Param #   \n",
      "=================================================================\n",
      "densenet121 (Model)          (None, 1000)              7037504   \n",
      "_________________________________________________________________\n",
      "dense_1 (Dense)              (None, 1)                 1001      \n",
      "=================================================================\n",
      "Total params: 7,038,505\n",
      "Trainable params: 6,954,857\n",
      "Non-trainable params: 83,648\n",
      "_________________________________________________________________\n",
      "None\n"
     ]
    }
   ],
   "source": [
    "# # -----------------------------LOAD MODEL---------------------------------- #\n",
    "conv_base = BASE(include_top=True,\n",
    "                input_shape=valid_generator.image_shape,\n",
    "                pooling=max)\n",
    "\n",
    "conv_base.layers.pop()\n",
    "# print(conv_base.summary())\n",
    "\n",
    "# conv_base.trainable = True\n",
    "# for layer in conv_base.layers:\n",
    "#     layer.trainable = True\n",
    "\n",
    "model = models.Sequential()\n",
    "model.add(conv_base)\n",
    "model.add(layers.Dense(1, activation='sigmoid'))\n",
    "\n",
    "if WEIGHTS:\n",
    "    model.load_weights(WEIGHTS)\n",
    "\n",
    "model.compile(loss='binary_crossentropy', optimizer= optimizers.Adam(), metrics=['accuracy'])\n",
    "print(model.summary())"
   ]
  },
  {
   "cell_type": "code",
   "execution_count": 5,
   "metadata": {},
   "outputs": [
    {
     "name": "stdout",
     "output_type": "stream",
     "text": [
      "--------------------------\n",
      "\n",
      "Accuracy (Evaluation Generator)=  0.8803418803418803\n",
      "\n"
     ]
    }
   ],
   "source": [
    "scoreSeg = model.evaluate_generator(valid_generator, steps=len(valid), workers=0)\n",
    "print('--------------------------')\n",
    "print('')\n",
    "print(\"Accuracy (Evaluation Generator)= \",scoreSeg[1])\n",
    "print('')"
   ]
  },
  {
   "cell_type": "code",
   "execution_count": 6,
   "metadata": {},
   "outputs": [
    {
     "data": {
      "text/plain": [
       "234"
      ]
     },
     "execution_count": 6,
     "metadata": {},
     "output_type": "execute_result"
    }
   ],
   "source": [
    "STEP_SIZE_VALID=valid_generator.n//valid_generator.batch_size\n",
    "STEP_SIZE_VALID"
   ]
  },
  {
   "cell_type": "code",
   "execution_count": 7,
   "metadata": {},
   "outputs": [
    {
     "name": "stdout",
     "output_type": "stream",
     "text": [
      "234/234 [==============================] - 58s 248ms/step\n"
     ]
    }
   ],
   "source": [
    "valid_generator.reset()\n",
    "y_pred_keras = model.predict_generator(valid_generator, steps=STEP_SIZE_VALID, verbose=1, workers=0)"
   ]
  },
  {
   "cell_type": "code",
   "execution_count": 8,
   "metadata": {},
   "outputs": [
    {
     "data": {
      "text/html": [
       "<div>\n",
       "<style scoped>\n",
       "    .dataframe tbody tr th:only-of-type {\n",
       "        vertical-align: middle;\n",
       "    }\n",
       "\n",
       "    .dataframe tbody tr th {\n",
       "        vertical-align: top;\n",
       "    }\n",
       "\n",
       "    .dataframe thead th {\n",
       "        text-align: right;\n",
       "    }\n",
       "</style>\n",
       "<table border=\"1\" class=\"dataframe\">\n",
       "  <thead>\n",
       "    <tr style=\"text-align: right;\">\n",
       "      <th>y_pred</th>\n",
       "      <th>0.0</th>\n",
       "      <th>1.0</th>\n",
       "    </tr>\n",
       "    <tr>\n",
       "      <th>label</th>\n",
       "      <th></th>\n",
       "      <th></th>\n",
       "    </tr>\n",
       "  </thead>\n",
       "  <tbody>\n",
       "    <tr>\n",
       "      <th>0</th>\n",
       "      <td>161</td>\n",
       "      <td>6</td>\n",
       "    </tr>\n",
       "    <tr>\n",
       "      <th>1</th>\n",
       "      <td>22</td>\n",
       "      <td>45</td>\n",
       "    </tr>\n",
       "  </tbody>\n",
       "</table>\n",
       "</div>"
      ],
      "text/plain": [
       "y_pred  0.0  1.0\n",
       "label           \n",
       "0       161    6\n",
       "1        22   45"
      ]
     },
     "execution_count": 8,
     "metadata": {},
     "output_type": "execute_result"
    }
   ],
   "source": [
    "valid['y_prob'] = y_pred_keras\n",
    "\n",
    "valid['y_pred'] = round(valid['y_prob'])\n",
    "\n",
    "pd.crosstab(valid['label'], valid['y_pred'])"
   ]
  },
  {
   "cell_type": "markdown",
   "metadata": {},
   "source": [
    "One issue we see immediately is the ammount of false negatives in our group. I would think that is our most concerning group as it shows that we miss almost 32% of our positive cases! This makes some sense as we have an imbalanced training data set."
   ]
  },
  {
   "cell_type": "code",
   "execution_count": 21,
   "metadata": {},
   "outputs": [
    {
     "name": "stdout",
     "output_type": "stream",
     "text": [
      "--------------------------\n",
      "\n",
      "Model AUC: 0.9198\n",
      "\n",
      "--------------------------\n"
     ]
    }
   ],
   "source": [
    "fpr_keras, tpr_keras, thresholds_keras = roc_curve(valid_generator.classes, y_pred_keras)\n",
    "auc_keras = auc(fpr_keras, tpr_keras)\n",
    "print('--------------------------')\n",
    "print('')\n",
    "print('Model AUC: %s' % str(round(auc_keras, 4)))\n",
    "print('')\n",
    "print('--------------------------')"
   ]
  },
  {
   "cell_type": "code",
   "execution_count": 22,
   "metadata": {
    "scrolled": true
   },
   "outputs": [
    {
     "data": {
      "image/png": "[encoded data removed]",
      "text/plain": [
       "<Figure size 432x288 with 1 Axes>"
      ]
     },
     "metadata": {
      "needs_background": "light"
     },
     "output_type": "display_data"
    }
   ],
   "source": [
    "plt.figure(1)\n",
    "plt.plot([0, 1], [0, 1], 'k--')\n",
    "plt.plot(fpr_keras, tpr_keras, label='area = {:.3f}'.format(auc_keras))\n",
    "plt.xlabel('False positive rate')\n",
    "plt.ylabel('True positive rate')\n",
    "plt.title('ROC curve')\n",
    "plt.legend(loc='best')\n",
    "plt.show()"
   ]
  },
  {
   "cell_type": "markdown",
   "metadata": {},
   "source": [
    "Our model AUC is not significantly worse that the baseline, although it does not perform better, and considering our errors are primarily related to false negatives it is difficult to gauge the reliability of this model."
   ]
  },
  {
   "cell_type": "code",
   "execution_count": 23,
   "metadata": {},
   "outputs": [
    {
     "data": {
      "text/html": [
       "<div>\n",
       "<style scoped>\n",
       "    .dataframe tbody tr th:only-of-type {\n",
       "        vertical-align: middle;\n",
       "    }\n",
       "\n",
       "    .dataframe tbody tr th {\n",
       "        vertical-align: top;\n",
       "    }\n",
       "\n",
       "    .dataframe thead th {\n",
       "        text-align: right;\n",
       "    }\n",
       "</style>\n",
       "<table border=\"1\" class=\"dataframe\">\n",
       "  <thead>\n",
       "    <tr style=\"text-align: right;\">\n",
       "      <th></th>\n",
       "      <th>Path</th>\n",
       "      <th>Sex</th>\n",
       "      <th>Age</th>\n",
       "      <th>Frontal/Lateral</th>\n",
       "      <th>AP/PA</th>\n",
       "      <th>No Finding</th>\n",
       "      <th>Enlarged Cardiomediastinum</th>\n",
       "      <th>Cardiomegaly</th>\n",
       "      <th>Lung Opacity</th>\n",
       "      <th>Lung Lesion</th>\n",
       "      <th>...</th>\n",
       "      <th>Pleural Effusion</th>\n",
       "      <th>Pleural Other</th>\n",
       "      <th>Fracture</th>\n",
       "      <th>Support Devices</th>\n",
       "      <th>label</th>\n",
       "      <th>y_prob</th>\n",
       "      <th>y_pred</th>\n",
       "      <th>y_gen_label</th>\n",
       "      <th>patient_id</th>\n",
       "      <th>study_id</th>\n",
       "    </tr>\n",
       "  </thead>\n",
       "  <tbody>\n",
       "    <tr>\n",
       "      <th>0</th>\n",
       "      <td>CheXpert-v1.0-small/valid/patient64541/study1/...</td>\n",
       "      <td>Male</td>\n",
       "      <td>73</td>\n",
       "      <td>Frontal</td>\n",
       "      <td>AP</td>\n",
       "      <td>0.0</td>\n",
       "      <td>1.0</td>\n",
       "      <td>1.0</td>\n",
       "      <td>1.0</td>\n",
       "      <td>0.0</td>\n",
       "      <td>...</td>\n",
       "      <td>0.0</td>\n",
       "      <td>0.0</td>\n",
       "      <td>0.0</td>\n",
       "      <td>0.0</td>\n",
       "      <td>0</td>\n",
       "      <td>0.035437</td>\n",
       "      <td>0.0</td>\n",
       "      <td>0</td>\n",
       "      <td>patient64541</td>\n",
       "      <td>study1</td>\n",
       "    </tr>\n",
       "    <tr>\n",
       "      <th>1</th>\n",
       "      <td>CheXpert-v1.0-small/valid/patient64542/study1/...</td>\n",
       "      <td>Male</td>\n",
       "      <td>70</td>\n",
       "      <td>Frontal</td>\n",
       "      <td>PA</td>\n",
       "      <td>0.0</td>\n",
       "      <td>0.0</td>\n",
       "      <td>0.0</td>\n",
       "      <td>0.0</td>\n",
       "      <td>0.0</td>\n",
       "      <td>...</td>\n",
       "      <td>0.0</td>\n",
       "      <td>0.0</td>\n",
       "      <td>0.0</td>\n",
       "      <td>1.0</td>\n",
       "      <td>0</td>\n",
       "      <td>0.022680</td>\n",
       "      <td>0.0</td>\n",
       "      <td>0</td>\n",
       "      <td>patient64542</td>\n",
       "      <td>study1</td>\n",
       "    </tr>\n",
       "    <tr>\n",
       "      <th>2</th>\n",
       "      <td>CheXpert-v1.0-small/valid/patient64542/study1/...</td>\n",
       "      <td>Male</td>\n",
       "      <td>70</td>\n",
       "      <td>Lateral</td>\n",
       "      <td>NaN</td>\n",
       "      <td>0.0</td>\n",
       "      <td>0.0</td>\n",
       "      <td>0.0</td>\n",
       "      <td>0.0</td>\n",
       "      <td>0.0</td>\n",
       "      <td>...</td>\n",
       "      <td>0.0</td>\n",
       "      <td>0.0</td>\n",
       "      <td>0.0</td>\n",
       "      <td>1.0</td>\n",
       "      <td>0</td>\n",
       "      <td>0.012251</td>\n",
       "      <td>0.0</td>\n",
       "      <td>0</td>\n",
       "      <td>patient64542</td>\n",
       "      <td>study1</td>\n",
       "    </tr>\n",
       "    <tr>\n",
       "      <th>3</th>\n",
       "      <td>CheXpert-v1.0-small/valid/patient64543/study1/...</td>\n",
       "      <td>Male</td>\n",
       "      <td>85</td>\n",
       "      <td>Frontal</td>\n",
       "      <td>AP</td>\n",
       "      <td>0.0</td>\n",
       "      <td>1.0</td>\n",
       "      <td>0.0</td>\n",
       "      <td>1.0</td>\n",
       "      <td>0.0</td>\n",
       "      <td>...</td>\n",
       "      <td>0.0</td>\n",
       "      <td>0.0</td>\n",
       "      <td>0.0</td>\n",
       "      <td>0.0</td>\n",
       "      <td>0</td>\n",
       "      <td>0.245853</td>\n",
       "      <td>0.0</td>\n",
       "      <td>0</td>\n",
       "      <td>patient64543</td>\n",
       "      <td>study1</td>\n",
       "    </tr>\n",
       "    <tr>\n",
       "      <th>4</th>\n",
       "      <td>CheXpert-v1.0-small/valid/patient64544/study1/...</td>\n",
       "      <td>Female</td>\n",
       "      <td>42</td>\n",
       "      <td>Frontal</td>\n",
       "      <td>AP</td>\n",
       "      <td>1.0</td>\n",
       "      <td>0.0</td>\n",
       "      <td>0.0</td>\n",
       "      <td>0.0</td>\n",
       "      <td>0.0</td>\n",
       "      <td>...</td>\n",
       "      <td>0.0</td>\n",
       "      <td>0.0</td>\n",
       "      <td>0.0</td>\n",
       "      <td>0.0</td>\n",
       "      <td>0</td>\n",
       "      <td>0.012708</td>\n",
       "      <td>0.0</td>\n",
       "      <td>0</td>\n",
       "      <td>patient64544</td>\n",
       "      <td>study1</td>\n",
       "    </tr>\n",
       "  </tbody>\n",
       "</table>\n",
       "<p>5 rows × 25 columns</p>\n",
       "</div>"
      ],
      "text/plain": [
       "                                                Path     Sex Age  \\\n",
       "0  CheXpert-v1.0-small/valid/patient64541/study1/...    Male  73   \n",
       "1  CheXpert-v1.0-small/valid/patient64542/study1/...    Male  70   \n",
       "2  CheXpert-v1.0-small/valid/patient64542/study1/...    Male  70   \n",
       "3  CheXpert-v1.0-small/valid/patient64543/study1/...    Male  85   \n",
       "4  CheXpert-v1.0-small/valid/patient64544/study1/...  Female  42   \n",
       "\n",
       "  Frontal/Lateral AP/PA No Finding Enlarged Cardiomediastinum Cardiomegaly  \\\n",
       "0         Frontal    AP        0.0                        1.0          1.0   \n",
       "1         Frontal    PA        0.0                        0.0          0.0   \n",
       "2         Lateral   NaN        0.0                        0.0          0.0   \n",
       "3         Frontal    AP        0.0                        1.0          0.0   \n",
       "4         Frontal    AP        1.0                        0.0          0.0   \n",
       "\n",
       "  Lung Opacity Lung Lesion  ... Pleural Effusion Pleural Other Fracture  \\\n",
       "0          1.0         0.0  ...              0.0           0.0      0.0   \n",
       "1          0.0         0.0  ...              0.0           0.0      0.0   \n",
       "2          0.0         0.0  ...              0.0           0.0      0.0   \n",
       "3          1.0         0.0  ...              0.0           0.0      0.0   \n",
       "4          0.0         0.0  ...              0.0           0.0      0.0   \n",
       "\n",
       "  Support Devices label    y_prob y_pred y_gen_label    patient_id study_id  \n",
       "0             0.0     0  0.035437    0.0           0  patient64541   study1  \n",
       "1             1.0     0  0.022680    0.0           0  patient64542   study1  \n",
       "2             1.0     0  0.012251    0.0           0  patient64542   study1  \n",
       "3             0.0     0  0.245853    0.0           0  patient64543   study1  \n",
       "4             0.0     0  0.012708    0.0           0  patient64544   study1  \n",
       "\n",
       "[5 rows x 25 columns]"
      ]
     },
     "execution_count": 23,
     "metadata": {},
     "output_type": "execute_result"
    }
   ],
   "source": [
    "valid['patient_id'] = [item[2] for item in valid['Path'].str.split(\"/\")]\n",
    "valid['study_id'] = [item[3] for item in valid['Path'].str.split(\"/\")]\n",
    "valid.head()"
   ]
  },
  {
   "cell_type": "code",
   "execution_count": 33,
   "metadata": {},
   "outputs": [],
   "source": [
    "groupLabel = ['patient_id','study_id','Sex','Age','label']\n",
    "test = valid[['patient_id','study_id','Sex','Age','label','y_prob']].groupby(groupLabel).max().reset_index()"
   ]
  },
  {
   "cell_type": "code",
   "execution_count": 34,
   "metadata": {},
   "outputs": [
    {
     "data": {
      "text/html": [
       "<div>\n",
       "<style scoped>\n",
       "    .dataframe tbody tr th:only-of-type {\n",
       "        vertical-align: middle;\n",
       "    }\n",
       "\n",
       "    .dataframe tbody tr th {\n",
       "        vertical-align: top;\n",
       "    }\n",
       "\n",
       "    .dataframe thead th {\n",
       "        text-align: right;\n",
       "    }\n",
       "</style>\n",
       "<table border=\"1\" class=\"dataframe\">\n",
       "  <thead>\n",
       "    <tr style=\"text-align: right;\">\n",
       "      <th></th>\n",
       "      <th>patient_id</th>\n",
       "      <th>study_id</th>\n",
       "      <th>Sex</th>\n",
       "      <th>Age</th>\n",
       "      <th>label</th>\n",
       "      <th>y_prob</th>\n",
       "    </tr>\n",
       "  </thead>\n",
       "  <tbody>\n",
       "    <tr>\n",
       "      <th>0</th>\n",
       "      <td>patient64541</td>\n",
       "      <td>study1</td>\n",
       "      <td>Male</td>\n",
       "      <td>73</td>\n",
       "      <td>0</td>\n",
       "      <td>0.035437</td>\n",
       "    </tr>\n",
       "    <tr>\n",
       "      <th>1</th>\n",
       "      <td>patient64542</td>\n",
       "      <td>study1</td>\n",
       "      <td>Male</td>\n",
       "      <td>70</td>\n",
       "      <td>0</td>\n",
       "      <td>0.022680</td>\n",
       "    </tr>\n",
       "    <tr>\n",
       "      <th>2</th>\n",
       "      <td>patient64543</td>\n",
       "      <td>study1</td>\n",
       "      <td>Male</td>\n",
       "      <td>85</td>\n",
       "      <td>0</td>\n",
       "      <td>0.245853</td>\n",
       "    </tr>\n",
       "    <tr>\n",
       "      <th>3</th>\n",
       "      <td>patient64544</td>\n",
       "      <td>study1</td>\n",
       "      <td>Female</td>\n",
       "      <td>42</td>\n",
       "      <td>0</td>\n",
       "      <td>0.012708</td>\n",
       "    </tr>\n",
       "    <tr>\n",
       "      <th>4</th>\n",
       "      <td>patient64545</td>\n",
       "      <td>study1</td>\n",
       "      <td>Female</td>\n",
       "      <td>55</td>\n",
       "      <td>1</td>\n",
       "      <td>0.553526</td>\n",
       "    </tr>\n",
       "  </tbody>\n",
       "</table>\n",
       "</div>"
      ],
      "text/plain": [
       "     patient_id study_id     Sex Age label    y_prob\n",
       "0  patient64541   study1    Male  73     0  0.035437\n",
       "1  patient64542   study1    Male  70     0  0.022680\n",
       "2  patient64543   study1    Male  85     0  0.245853\n",
       "3  patient64544   study1  Female  42     0  0.012708\n",
       "4  patient64545   study1  Female  55     1  0.553526"
      ]
     },
     "execution_count": 34,
     "metadata": {},
     "output_type": "execute_result"
    }
   ],
   "source": [
    "test.head()"
   ]
  },
  {
   "cell_type": "code",
   "execution_count": 35,
   "metadata": {},
   "outputs": [
    {
     "data": {
      "text/html": [
       "<div>\n",
       "<style scoped>\n",
       "    .dataframe tbody tr th:only-of-type {\n",
       "        vertical-align: middle;\n",
       "    }\n",
       "\n",
       "    .dataframe tbody tr th {\n",
       "        vertical-align: top;\n",
       "    }\n",
       "\n",
       "    .dataframe thead th {\n",
       "        text-align: right;\n",
       "    }\n",
       "</style>\n",
       "<table border=\"1\" class=\"dataframe\">\n",
       "  <thead>\n",
       "    <tr style=\"text-align: right;\">\n",
       "      <th>y_pred</th>\n",
       "      <th>0.0</th>\n",
       "      <th>1.0</th>\n",
       "    </tr>\n",
       "    <tr>\n",
       "      <th>label</th>\n",
       "      <th></th>\n",
       "      <th></th>\n",
       "    </tr>\n",
       "  </thead>\n",
       "  <tbody>\n",
       "    <tr>\n",
       "      <th>0</th>\n",
       "      <td>130</td>\n",
       "      <td>6</td>\n",
       "    </tr>\n",
       "    <tr>\n",
       "      <th>1</th>\n",
       "      <td>20</td>\n",
       "      <td>44</td>\n",
       "    </tr>\n",
       "  </tbody>\n",
       "</table>\n",
       "</div>"
      ],
      "text/plain": [
       "y_pred  0.0  1.0\n",
       "label           \n",
       "0       130    6\n",
       "1        20   44"
      ]
     },
     "execution_count": 35,
     "metadata": {},
     "output_type": "execute_result"
    }
   ],
   "source": [
    "test['y_pred'] = round(test['y_prob'])\n",
    "\n",
    "pd.crosstab(test['label'], test['y_pred'])"
   ]
  },
  {
   "cell_type": "code",
   "execution_count": 52,
   "metadata": {
    "scrolled": true
   },
   "outputs": [],
   "source": [
    "labels = list(map(int, list(test['label'])))"
   ]
  },
  {
   "cell_type": "code",
   "execution_count": 51,
   "metadata": {},
   "outputs": [
    {
     "name": "stdout",
     "output_type": "stream",
     "text": [
      "--------------------------\n",
      "\n",
      "Model AUC: 0.9148\n",
      "\n",
      "--------------------------\n"
     ]
    }
   ],
   "source": [
    "fpr_keras, tpr_keras, thresholds_keras = roc_curve(labels, test['y_prob'])\n",
    "auc_keras = auc(fpr_keras, tpr_keras)\n",
    "print('--------------------------')\n",
    "print('')\n",
    "print('Model AUC: %s' % str(round(auc_keras, 4)))\n",
    "print('')\n",
    "print('--------------------------')"
   ]
  },
  {
   "cell_type": "code",
   "execution_count": 53,
   "metadata": {},
   "outputs": [
    {
     "data": {
      "image/png": "[encoded data removed]",
      "text/plain": [
       "<Figure size 432x288 with 1 Axes>"
      ]
     },
     "metadata": {
      "needs_background": "light"
     },
     "output_type": "display_data"
    }
   ],
   "source": [
    "plt.figure(1)\n",
    "plt.plot([0, 1], [0, 1], 'k--')\n",
    "plt.plot(fpr_keras, tpr_keras, label='area = {:.3f}'.format(auc_keras))\n",
    "plt.xlabel('False positive rate')\n",
    "plt.ylabel('True positive rate')\n",
    "plt.title('ROC curve')\n",
    "plt.legend(loc='best')\n",
    "plt.show()"
   ]
  },
  {
   "cell_type": "markdown",
   "metadata": {},
   "source": [
    "Overall we see that we are not significantly different from current state of the art models for the task of predicting pleural effusions."
   ]
  },
  {
   "cell_type": "code",
   "execution_count": null,
   "metadata": {},
   "outputs": [],
   "source": []
  }
 ],
 "metadata": {
  "kernelspec": {
   "display_name": "Python 3",
   "language": "python",
   "name": "python3"
  },
  "language_info": {
   "codemirror_mode": {
    "name": "ipython",
    "version": 3
   },
   "file_extension": ".py",
   "mimetype": "text/x-python",
   "name": "python",
   "nbconvert_exporter": "python",
   "pygments_lexer": "ipython3",
   "version": "3.6.6"
  }
 },
 "nbformat": 4,
 "nbformat_minor": 2
}
