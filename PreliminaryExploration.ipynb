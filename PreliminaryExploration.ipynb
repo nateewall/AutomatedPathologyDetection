{
 "cells": [
  {
   "cell_type": "markdown",
   "metadata": {},
   "source": [
    "# CheXpert Data Exploration"
   ]
  },
  {
   "cell_type": "code",
   "execution_count": 25,
   "metadata": {},
   "outputs": [],
   "source": [
    "import numpy as np\n",
    "import pandas as pd\n",
    "import matplotlib.pyplot as plt\n",
    "import seaborn as sns\n",
    "\n",
    "from keras_preprocessing.image import ImageDataGenerator\n",
    "from keras import layers\n",
    "from keras import models\n",
    "from keras import optimizers"
   ]
  },
  {
   "cell_type": "code",
   "execution_count": 26,
   "metadata": {},
   "outputs": [
    {
     "name": "stdout",
     "output_type": "stream",
     "text": [
      "<class 'pandas.core.frame.DataFrame'>\n",
      "RangeIndex: 223414 entries, 0 to 223413\n",
      "Data columns (total 19 columns):\n",
      "Path                          223414 non-null object\n",
      "Sex                           223414 non-null object\n",
      "Age                           223414 non-null object\n",
      "Frontal/Lateral               223414 non-null object\n",
      "AP/PA                         191027 non-null object\n",
      "No Finding                    22381 non-null object\n",
      "Enlarged Cardiomediastinum    44839 non-null object\n",
      "Cardiomegaly                  46203 non-null object\n",
      "Lung Opacity                  117778 non-null object\n",
      "Lung Lesion                   11944 non-null object\n",
      "Edema                         85956 non-null object\n",
      "Consolidation                 70622 non-null object\n",
      "Pneumonia                     27608 non-null object\n",
      "Atelectasis                   68443 non-null object\n",
      "Pneumothorax                  78934 non-null object\n",
      "Pleural Effusion              133211 non-null object\n",
      "Pleural Other                 6492 non-null object\n",
      "Fracture                      12194 non-null object\n",
      "Support Devices               123217 non-null object\n",
      "dtypes: object(19)\n",
      "memory usage: 32.4+ MB\n"
     ]
    }
   ],
   "source": [
    "#read in the training dataset\n",
    "train=pd.read_csv(\"CheXpert-v1.0-small/train.csv\", dtype = str)\n",
    "train.info()"
   ]
  },
  {
   "cell_type": "code",
   "execution_count": 27,
   "metadata": {
    "scrolled": false
   },
   "outputs": [
    {
     "data": {
      "text/html": [
       "<div>\n",
       "<style scoped>\n",
       "    .dataframe tbody tr th:only-of-type {\n",
       "        vertical-align: middle;\n",
       "    }\n",
       "\n",
       "    .dataframe tbody tr th {\n",
       "        vertical-align: top;\n",
       "    }\n",
       "\n",
       "    .dataframe thead th {\n",
       "        text-align: right;\n",
       "    }\n",
       "</style>\n",
       "<table border=\"1\" class=\"dataframe\">\n",
       "  <thead>\n",
       "    <tr style=\"text-align: right;\">\n",
       "      <th></th>\n",
       "      <th>Path</th>\n",
       "      <th>Sex</th>\n",
       "      <th>Age</th>\n",
       "      <th>Frontal/Lateral</th>\n",
       "      <th>AP/PA</th>\n",
       "      <th>No Finding</th>\n",
       "      <th>Enlarged Cardiomediastinum</th>\n",
       "      <th>Cardiomegaly</th>\n",
       "      <th>Lung Opacity</th>\n",
       "      <th>Lung Lesion</th>\n",
       "      <th>Edema</th>\n",
       "      <th>Consolidation</th>\n",
       "      <th>Pneumonia</th>\n",
       "      <th>Atelectasis</th>\n",
       "      <th>Pneumothorax</th>\n",
       "      <th>Pleural Effusion</th>\n",
       "      <th>Pleural Other</th>\n",
       "      <th>Fracture</th>\n",
       "      <th>Support Devices</th>\n",
       "    </tr>\n",
       "  </thead>\n",
       "  <tbody>\n",
       "    <tr>\n",
       "      <th>0</th>\n",
       "      <td>CheXpert-v1.0-small/train/patient00001/study1/...</td>\n",
       "      <td>Female</td>\n",
       "      <td>68</td>\n",
       "      <td>Frontal</td>\n",
       "      <td>AP</td>\n",
       "      <td>1.0</td>\n",
       "      <td>NaN</td>\n",
       "      <td>NaN</td>\n",
       "      <td>NaN</td>\n",
       "      <td>NaN</td>\n",
       "      <td>NaN</td>\n",
       "      <td>NaN</td>\n",
       "      <td>NaN</td>\n",
       "      <td>NaN</td>\n",
       "      <td>0.0</td>\n",
       "      <td>NaN</td>\n",
       "      <td>NaN</td>\n",
       "      <td>NaN</td>\n",
       "      <td>1.0</td>\n",
       "    </tr>\n",
       "    <tr>\n",
       "      <th>1</th>\n",
       "      <td>CheXpert-v1.0-small/train/patient00002/study2/...</td>\n",
       "      <td>Female</td>\n",
       "      <td>87</td>\n",
       "      <td>Frontal</td>\n",
       "      <td>AP</td>\n",
       "      <td>NaN</td>\n",
       "      <td>NaN</td>\n",
       "      <td>-1.0</td>\n",
       "      <td>1.0</td>\n",
       "      <td>NaN</td>\n",
       "      <td>-1.0</td>\n",
       "      <td>-1.0</td>\n",
       "      <td>NaN</td>\n",
       "      <td>-1.0</td>\n",
       "      <td>NaN</td>\n",
       "      <td>-1.0</td>\n",
       "      <td>NaN</td>\n",
       "      <td>1.0</td>\n",
       "      <td>NaN</td>\n",
       "    </tr>\n",
       "    <tr>\n",
       "      <th>2</th>\n",
       "      <td>CheXpert-v1.0-small/train/patient00002/study1/...</td>\n",
       "      <td>Female</td>\n",
       "      <td>83</td>\n",
       "      <td>Frontal</td>\n",
       "      <td>AP</td>\n",
       "      <td>NaN</td>\n",
       "      <td>NaN</td>\n",
       "      <td>NaN</td>\n",
       "      <td>1.0</td>\n",
       "      <td>NaN</td>\n",
       "      <td>NaN</td>\n",
       "      <td>-1.0</td>\n",
       "      <td>NaN</td>\n",
       "      <td>NaN</td>\n",
       "      <td>NaN</td>\n",
       "      <td>NaN</td>\n",
       "      <td>NaN</td>\n",
       "      <td>1.0</td>\n",
       "      <td>NaN</td>\n",
       "    </tr>\n",
       "    <tr>\n",
       "      <th>3</th>\n",
       "      <td>CheXpert-v1.0-small/train/patient00002/study1/...</td>\n",
       "      <td>Female</td>\n",
       "      <td>83</td>\n",
       "      <td>Lateral</td>\n",
       "      <td>NaN</td>\n",
       "      <td>NaN</td>\n",
       "      <td>NaN</td>\n",
       "      <td>NaN</td>\n",
       "      <td>1.0</td>\n",
       "      <td>NaN</td>\n",
       "      <td>NaN</td>\n",
       "      <td>-1.0</td>\n",
       "      <td>NaN</td>\n",
       "      <td>NaN</td>\n",
       "      <td>NaN</td>\n",
       "      <td>NaN</td>\n",
       "      <td>NaN</td>\n",
       "      <td>1.0</td>\n",
       "      <td>NaN</td>\n",
       "    </tr>\n",
       "    <tr>\n",
       "      <th>4</th>\n",
       "      <td>CheXpert-v1.0-small/train/patient00003/study1/...</td>\n",
       "      <td>Male</td>\n",
       "      <td>41</td>\n",
       "      <td>Frontal</td>\n",
       "      <td>AP</td>\n",
       "      <td>NaN</td>\n",
       "      <td>NaN</td>\n",
       "      <td>NaN</td>\n",
       "      <td>NaN</td>\n",
       "      <td>NaN</td>\n",
       "      <td>1.0</td>\n",
       "      <td>NaN</td>\n",
       "      <td>NaN</td>\n",
       "      <td>NaN</td>\n",
       "      <td>0.0</td>\n",
       "      <td>NaN</td>\n",
       "      <td>NaN</td>\n",
       "      <td>NaN</td>\n",
       "      <td>NaN</td>\n",
       "    </tr>\n",
       "  </tbody>\n",
       "</table>\n",
       "</div>"
      ],
      "text/plain": [
       "                                                Path     Sex Age  \\\n",
       "0  CheXpert-v1.0-small/train/patient00001/study1/...  Female  68   \n",
       "1  CheXpert-v1.0-small/train/patient00002/study2/...  Female  87   \n",
       "2  CheXpert-v1.0-small/train/patient00002/study1/...  Female  83   \n",
       "3  CheXpert-v1.0-small/train/patient00002/study1/...  Female  83   \n",
       "4  CheXpert-v1.0-small/train/patient00003/study1/...    Male  41   \n",
       "\n",
       "  Frontal/Lateral AP/PA No Finding Enlarged Cardiomediastinum Cardiomegaly  \\\n",
       "0         Frontal    AP        1.0                        NaN          NaN   \n",
       "1         Frontal    AP        NaN                        NaN         -1.0   \n",
       "2         Frontal    AP        NaN                        NaN          NaN   \n",
       "3         Lateral   NaN        NaN                        NaN          NaN   \n",
       "4         Frontal    AP        NaN                        NaN          NaN   \n",
       "\n",
       "  Lung Opacity Lung Lesion Edema Consolidation Pneumonia Atelectasis  \\\n",
       "0          NaN         NaN   NaN           NaN       NaN         NaN   \n",
       "1          1.0         NaN  -1.0          -1.0       NaN        -1.0   \n",
       "2          1.0         NaN   NaN          -1.0       NaN         NaN   \n",
       "3          1.0         NaN   NaN          -1.0       NaN         NaN   \n",
       "4          NaN         NaN   1.0           NaN       NaN         NaN   \n",
       "\n",
       "  Pneumothorax Pleural Effusion Pleural Other Fracture Support Devices  \n",
       "0          0.0              NaN           NaN      NaN             1.0  \n",
       "1          NaN             -1.0           NaN      1.0             NaN  \n",
       "2          NaN              NaN           NaN      1.0             NaN  \n",
       "3          NaN              NaN           NaN      1.0             NaN  \n",
       "4          0.0              NaN           NaN      NaN             NaN  "
      ]
     },
     "execution_count": 27,
     "metadata": {},
     "output_type": "execute_result"
    }
   ],
   "source": [
    "train.head()"
   ]
  },
  {
   "cell_type": "markdown",
   "metadata": {},
   "source": [
    "## Data Prep"
   ]
  },
  {
   "cell_type": "code",
   "execution_count": 28,
   "metadata": {},
   "outputs": [
    {
     "name": "stderr",
     "output_type": "stream",
     "text": [
      "/home/newall/anaconda3/envs/tensorflow/lib/python3.6/site-packages/pandas/core/indexing.py:190: SettingWithCopyWarning: \n",
      "A value is trying to be set on a copy of a slice from a DataFrame\n",
      "\n",
      "See the caveats in the documentation: http://pandas.pydata.org/pandas-docs/stable/indexing.html#indexing-view-versus-copy\n",
      "  self._setitem_with_indexer(indexer, value)\n"
     ]
    },
    {
     "data": {
      "text/html": [
       "<div>\n",
       "<style scoped>\n",
       "    .dataframe tbody tr th:only-of-type {\n",
       "        vertical-align: middle;\n",
       "    }\n",
       "\n",
       "    .dataframe tbody tr th {\n",
       "        vertical-align: top;\n",
       "    }\n",
       "\n",
       "    .dataframe thead th {\n",
       "        text-align: right;\n",
       "    }\n",
       "</style>\n",
       "<table border=\"1\" class=\"dataframe\">\n",
       "  <thead>\n",
       "    <tr style=\"text-align: right;\">\n",
       "      <th></th>\n",
       "      <th>Path</th>\n",
       "      <th>Sex</th>\n",
       "      <th>Age</th>\n",
       "      <th>Frontal/Lateral</th>\n",
       "      <th>AP/PA</th>\n",
       "      <th>No Finding</th>\n",
       "      <th>Enlarged Cardiomediastinum</th>\n",
       "      <th>Cardiomegaly</th>\n",
       "      <th>Lung Opacity</th>\n",
       "      <th>Lung Lesion</th>\n",
       "      <th>...</th>\n",
       "      <th>Pleural Other</th>\n",
       "      <th>Fracture</th>\n",
       "      <th>Support Devices</th>\n",
       "      <th>age_bucket</th>\n",
       "      <th>Folder</th>\n",
       "      <th>Data</th>\n",
       "      <th>Patient</th>\n",
       "      <th>Study</th>\n",
       "      <th>viewNumber</th>\n",
       "      <th>ImageType</th>\n",
       "    </tr>\n",
       "  </thead>\n",
       "  <tbody>\n",
       "    <tr>\n",
       "      <th>0</th>\n",
       "      <td>CheXpert-v1.0-small/train/patient00001/study1/...</td>\n",
       "      <td>Female</td>\n",
       "      <td>68</td>\n",
       "      <td>Frontal</td>\n",
       "      <td>AP</td>\n",
       "      <td>1</td>\n",
       "      <td>0</td>\n",
       "      <td>0</td>\n",
       "      <td>0</td>\n",
       "      <td>0</td>\n",
       "      <td>...</td>\n",
       "      <td>0</td>\n",
       "      <td>0</td>\n",
       "      <td>1</td>\n",
       "      <td>(64, 78]</td>\n",
       "      <td>CheXpert-v1.0-small</td>\n",
       "      <td>train</td>\n",
       "      <td>patient00001</td>\n",
       "      <td>study1</td>\n",
       "      <td>view1</td>\n",
       "      <td>frontal.jpg</td>\n",
       "    </tr>\n",
       "    <tr>\n",
       "      <th>1</th>\n",
       "      <td>CheXpert-v1.0-small/train/patient00002/study2/...</td>\n",
       "      <td>Female</td>\n",
       "      <td>87</td>\n",
       "      <td>Frontal</td>\n",
       "      <td>AP</td>\n",
       "      <td>0</td>\n",
       "      <td>0</td>\n",
       "      <td>1</td>\n",
       "      <td>1</td>\n",
       "      <td>0</td>\n",
       "      <td>...</td>\n",
       "      <td>0</td>\n",
       "      <td>1</td>\n",
       "      <td>0</td>\n",
       "      <td>(78, 98]</td>\n",
       "      <td>CheXpert-v1.0-small</td>\n",
       "      <td>train</td>\n",
       "      <td>patient00002</td>\n",
       "      <td>study2</td>\n",
       "      <td>view1</td>\n",
       "      <td>frontal.jpg</td>\n",
       "    </tr>\n",
       "    <tr>\n",
       "      <th>2</th>\n",
       "      <td>CheXpert-v1.0-small/train/patient00002/study1/...</td>\n",
       "      <td>Female</td>\n",
       "      <td>83</td>\n",
       "      <td>Frontal</td>\n",
       "      <td>AP</td>\n",
       "      <td>0</td>\n",
       "      <td>0</td>\n",
       "      <td>0</td>\n",
       "      <td>1</td>\n",
       "      <td>0</td>\n",
       "      <td>...</td>\n",
       "      <td>0</td>\n",
       "      <td>1</td>\n",
       "      <td>0</td>\n",
       "      <td>(78, 98]</td>\n",
       "      <td>CheXpert-v1.0-small</td>\n",
       "      <td>train</td>\n",
       "      <td>patient00002</td>\n",
       "      <td>study1</td>\n",
       "      <td>view1</td>\n",
       "      <td>frontal.jpg</td>\n",
       "    </tr>\n",
       "    <tr>\n",
       "      <th>3</th>\n",
       "      <td>CheXpert-v1.0-small/train/patient00002/study1/...</td>\n",
       "      <td>Female</td>\n",
       "      <td>83</td>\n",
       "      <td>Lateral</td>\n",
       "      <td>NaN</td>\n",
       "      <td>0</td>\n",
       "      <td>0</td>\n",
       "      <td>0</td>\n",
       "      <td>1</td>\n",
       "      <td>0</td>\n",
       "      <td>...</td>\n",
       "      <td>0</td>\n",
       "      <td>1</td>\n",
       "      <td>0</td>\n",
       "      <td>(78, 98]</td>\n",
       "      <td>CheXpert-v1.0-small</td>\n",
       "      <td>train</td>\n",
       "      <td>patient00002</td>\n",
       "      <td>study1</td>\n",
       "      <td>view2</td>\n",
       "      <td>lateral.jpg</td>\n",
       "    </tr>\n",
       "    <tr>\n",
       "      <th>4</th>\n",
       "      <td>CheXpert-v1.0-small/train/patient00003/study1/...</td>\n",
       "      <td>Male</td>\n",
       "      <td>41</td>\n",
       "      <td>Frontal</td>\n",
       "      <td>AP</td>\n",
       "      <td>0</td>\n",
       "      <td>0</td>\n",
       "      <td>0</td>\n",
       "      <td>0</td>\n",
       "      <td>0</td>\n",
       "      <td>...</td>\n",
       "      <td>0</td>\n",
       "      <td>0</td>\n",
       "      <td>0</td>\n",
       "      <td>(33, 48]</td>\n",
       "      <td>CheXpert-v1.0-small</td>\n",
       "      <td>train</td>\n",
       "      <td>patient00003</td>\n",
       "      <td>study1</td>\n",
       "      <td>view1</td>\n",
       "      <td>frontal.jpg</td>\n",
       "    </tr>\n",
       "  </tbody>\n",
       "</table>\n",
       "<p>5 rows × 26 columns</p>\n",
       "</div>"
      ],
      "text/plain": [
       "                                                Path     Sex  Age  \\\n",
       "0  CheXpert-v1.0-small/train/patient00001/study1/...  Female   68   \n",
       "1  CheXpert-v1.0-small/train/patient00002/study2/...  Female   87   \n",
       "2  CheXpert-v1.0-small/train/patient00002/study1/...  Female   83   \n",
       "3  CheXpert-v1.0-small/train/patient00002/study1/...  Female   83   \n",
       "4  CheXpert-v1.0-small/train/patient00003/study1/...    Male   41   \n",
       "\n",
       "  Frontal/Lateral AP/PA  No Finding  Enlarged Cardiomediastinum  Cardiomegaly  \\\n",
       "0         Frontal    AP           1                           0             0   \n",
       "1         Frontal    AP           0                           0             1   \n",
       "2         Frontal    AP           0                           0             0   \n",
       "3         Lateral   NaN           0                           0             0   \n",
       "4         Frontal    AP           0                           0             0   \n",
       "\n",
       "   Lung Opacity  Lung Lesion  ...  Pleural Other  Fracture  Support Devices  \\\n",
       "0             0            0  ...              0         0                1   \n",
       "1             1            0  ...              0         1                0   \n",
       "2             1            0  ...              0         1                0   \n",
       "3             1            0  ...              0         1                0   \n",
       "4             0            0  ...              0         0                0   \n",
       "\n",
       "   age_bucket               Folder   Data       Patient   Study  viewNumber  \\\n",
       "0    (64, 78]  CheXpert-v1.0-small  train  patient00001  study1       view1   \n",
       "1    (78, 98]  CheXpert-v1.0-small  train  patient00002  study2       view1   \n",
       "2    (78, 98]  CheXpert-v1.0-small  train  patient00002  study1       view1   \n",
       "3    (78, 98]  CheXpert-v1.0-small  train  patient00002  study1       view2   \n",
       "4    (33, 48]  CheXpert-v1.0-small  train  patient00003  study1       view1   \n",
       "\n",
       "     ImageType  \n",
       "0  frontal.jpg  \n",
       "1  frontal.jpg  \n",
       "2  frontal.jpg  \n",
       "3  lateral.jpg  \n",
       "4  frontal.jpg  \n",
       "\n",
       "[5 rows x 26 columns]"
      ]
     },
     "execution_count": 28,
     "metadata": {},
     "output_type": "execute_result"
    }
   ],
   "source": [
    "## clean up the pathologies\n",
    "pathology = ['No Finding','Enlarged Cardiomediastinum', 'Cardiomegaly', 'Lung Opacity',\n",
    "       'Lung Lesion', 'Edema', 'Consolidation', 'Pneumonia', 'Atelectasis',\n",
    "       'Pneumothorax', 'Pleural Effusion', 'Pleural Other', 'Fracture','Support Devices']\n",
    "#mapping to different labels\n",
    "labelMap = {'0.0': 0, '1.0' : 1, '-1.0' : 1}\n",
    "\n",
    "for p in pathology:\n",
    "    train[p].loc[train[p].isna()] = '0.0'\n",
    "    train[p] = train[p].map(labelMap)\n",
    "    \n",
    "##clean up the age to int then create buckets\n",
    "train['Age'] = train['Age'].astype(str).astype(int)\n",
    "age_buckets = [0, 2, 5, 13, 18, 33, 48, 64, 78, 98]\n",
    "train['age_bucket'] = pd.cut(train['Age'], age_buckets)\n",
    "\n",
    "##parse the path into the respective categories\n",
    "new = train[\"Path\"].str.split(\"/\", n = 5, expand = True)\n",
    "\n",
    "train['Folder'] = new[0]\n",
    "train['Data'] = new[1]\n",
    "train['Patient'] = new[2]\n",
    "train['Study'] = new[3]\n",
    "train['viewNumber']= new[4].str.split(\"_\", n = 2, expand = True)[0]\n",
    "train['ImageType']= new[4].str.split(\"_\", n = 2, expand = True)[1]\n",
    "\n",
    "train.head()"
   ]
  },
  {
   "cell_type": "markdown",
   "metadata": {},
   "source": [
    "## Age Buckets"
   ]
  },
  {
   "cell_type": "code",
   "execution_count": 29,
   "metadata": {},
   "outputs": [
    {
     "data": {
      "text/plain": [
       "[]"
      ]
     },
     "execution_count": 29,
     "metadata": {},
     "output_type": "execute_result"
    },
    {
     "data": {
      "image/png": "[encoded data removed]",
      "text/plain": [
       "<Figure size 432x288 with 1 Axes>"
      ]
     },
     "metadata": {
      "needs_background": "light"
     },
     "output_type": "display_data"
    }
   ],
   "source": [
    "train['Age'].hist().plot()"
   ]
  },
  {
   "cell_type": "code",
   "execution_count": 37,
   "metadata": {},
   "outputs": [
    {
     "data": {
      "text/plain": [
       "Sex      age_bucket\n",
       "Female   (13, 18]        290\n",
       "         (18, 33]       8291\n",
       "         (33, 48]      13291\n",
       "         (48, 64]      27042\n",
       "         (64, 78]      23332\n",
       "         (78, 98]      18528\n",
       "Male     (13, 18]        476\n",
       "         (18, 33]      12141\n",
       "         (33, 48]      19382\n",
       "         (48, 64]      44298\n",
       "         (64, 78]      35562\n",
       "         (78, 98]      20777\n",
       "Unknown  (33, 48]          1\n",
       "dtype: int64"
      ]
     },
     "execution_count": 37,
     "metadata": {},
     "output_type": "execute_result"
    }
   ],
   "source": [
    "volumes = train.groupby(['Sex','age_bucket']).size()\n",
    "volumes"
   ]
  },
  {
   "cell_type": "code",
   "execution_count": 36,
   "metadata": {},
   "outputs": [
    {
     "data": {
      "text/plain": [
       "Sex      age_bucket\n",
       "Female   (13, 18]      0.331034\n",
       "         (18, 33]      0.305271\n",
       "         (33, 48]      0.360169\n",
       "         (48, 64]      0.440907\n",
       "         (64, 78]      0.489414\n",
       "         (78, 98]      0.501619\n",
       "Male     (13, 18]      0.279412\n",
       "         (18, 33]      0.305411\n",
       "         (33, 48]      0.366474\n",
       "         (48, 64]      0.434218\n",
       "         (64, 78]      0.478179\n",
       "         (78, 98]      0.509265\n",
       "Unknown  (33, 48]      0.000000\n",
       "Name: Pleural Effusion, dtype: float64"
      ]
     },
     "execution_count": 36,
     "metadata": {},
     "output_type": "execute_result"
    }
   ],
   "source": [
    "propPleural = train.groupby(['Sex','age_bucket'])['Pleural Effusion'].mean()\n",
    "propPleural"
   ]
  },
  {
   "cell_type": "code",
   "execution_count": null,
   "metadata": {},
   "outputs": [],
   "source": []
  },
  {
   "cell_type": "code",
   "execution_count": 27,
   "metadata": {},
   "outputs": [
    {
     "data": {
      "text/plain": [
       "frontal.jpg    191027\n",
       "lateral.jpg     32387\n",
       "Name: ImageType, dtype: int64"
      ]
     },
     "execution_count": 27,
     "metadata": {},
     "output_type": "execute_result"
    }
   ],
   "source": [
    "train['ImageType'].value_counts()"
   ]
  },
  {
   "cell_type": "markdown",
   "metadata": {},
   "source": []
  },
  {
   "cell_type": "code",
   "execution_count": 21,
   "metadata": {},
   "outputs": [
    {
     "data": {
      "text/plain": [
       "Patient\n",
       "patient00001    1\n",
       "patient00002    2\n",
       "patient00003    1\n",
       "patient00004    1\n",
       "patient00005    2\n",
       "Name: Study, dtype: int64"
      ]
     },
     "execution_count": 21,
     "metadata": {},
     "output_type": "execute_result"
    }
   ],
   "source": [
    "patients = train.groupby(['Patient'])['Study'].nunique()\n",
    "patients.head()"
   ]
  },
  {
   "cell_type": "code",
   "execution_count": 23,
   "metadata": {},
   "outputs": [
    {
     "data": {
      "text/plain": [
       "<bound method Axes.plot of <matplotlib.axes._subplots.AxesSubplot object at 0x7f5f012b9978>>"
      ]
     },
     "execution_count": 23,
     "metadata": {},
     "output_type": "execute_result"
    },
    {
     "data": {
      "image/png": "[encoded data removed]",
      "text/plain": [
       "<Figure size 432x288 with 1 Axes>"
      ]
     },
     "metadata": {
      "needs_background": "light"
     },
     "output_type": "display_data"
    }
   ],
   "source": [
    "patients.hist().plot"
   ]
  },
  {
   "cell_type": "code",
   "execution_count": 8,
   "metadata": {},
   "outputs": [
    {
     "name": "stdout",
     "output_type": "stream",
     "text": [
      "No Finding\n",
      "0.0    201033\n",
      "1.0     22381\n",
      "Name: No Finding, dtype: int64\n",
      "Enlarged Cardiomediastinum\n",
      "0.0     200213\n",
      "-1.0     12403\n",
      "1.0      10798\n",
      "Name: Enlarged Cardiomediastinum, dtype: int64\n",
      "Cardiomegaly\n",
      "0.0     188327\n",
      "1.0      27000\n",
      "-1.0      8087\n",
      "Name: Cardiomegaly, dtype: int64\n",
      "Lung Opacity\n",
      "0.0     112235\n",
      "1.0     105581\n",
      "-1.0      5598\n",
      "Name: Lung Opacity, dtype: int64\n",
      "Lung Lesion\n",
      "0.0     212740\n",
      "1.0       9186\n",
      "-1.0      1488\n",
      "Name: Lung Lesion, dtype: int64\n",
      "Edema\n",
      "0.0     158184\n",
      "1.0      52246\n",
      "-1.0     12984\n",
      "Name: Edema, dtype: int64\n",
      "Consolidation\n",
      "0.0     180889\n",
      "-1.0     27742\n",
      "1.0      14783\n",
      "Name: Consolidation, dtype: int64\n",
      "Pneumonia\n",
      "0.0     198605\n",
      "-1.0     18770\n",
      "1.0       6039\n",
      "Name: Pneumonia, dtype: int64\n",
      "Atelectasis\n",
      "0.0     156299\n",
      "-1.0     33739\n",
      "1.0      33376\n",
      "Name: Atelectasis, dtype: int64\n",
      "Pneumothorax\n",
      "0.0     200821\n",
      "1.0      19448\n",
      "-1.0      3145\n",
      "Name: Pneumothorax, dtype: int64\n",
      "Pleural Effusion\n",
      "0.0     125599\n",
      "1.0      86187\n",
      "-1.0     11628\n",
      "Name: Pleural Effusion, dtype: int64\n",
      "Pleural Other\n",
      "0.0     217238\n",
      "1.0       3523\n",
      "-1.0      2653\n",
      "Name: Pleural Other, dtype: int64\n",
      "Fracture\n",
      "0.0     213732\n",
      "1.0       9040\n",
      "-1.0       642\n",
      "Name: Fracture, dtype: int64\n",
      "Support Devices\n",
      "1.0     116001\n",
      "0.0     106334\n",
      "-1.0      1079\n",
      "Name: Support Devices, dtype: int64\n"
     ]
    }
   ],
   "source": [
    "pathology = ['No Finding','Enlarged Cardiomediastinum', 'Cardiomegaly', 'Lung Opacity',\n",
    "       'Lung Lesion', 'Edema', 'Consolidation', 'Pneumonia', 'Atelectasis',\n",
    "       'Pneumothorax', 'Pleural Effusion', 'Pleural Other', 'Fracture','Support Devices']\n",
    "\n",
    "for p in pathology:\n",
    "    print(train[p].value_counts())"
   ]
  },
  {
   "cell_type": "code",
   "execution_count": null,
   "metadata": {},
   "outputs": [],
   "source": []
  }
 ],
 "metadata": {
  "kernelspec": {
   "display_name": "Python 3",
   "language": "python",
   "name": "python3"
  },
  "language_info": {
   "codemirror_mode": {
    "name": "ipython",
    "version": 3
   },
   "file_extension": ".py",
   "mimetype": "text/x-python",
   "name": "python",
   "nbconvert_exporter": "python",
   "pygments_lexer": "ipython3",
   "version": "3.6.6"
  }
 },
 "nbformat": 4,
 "nbformat_minor": 2
}
